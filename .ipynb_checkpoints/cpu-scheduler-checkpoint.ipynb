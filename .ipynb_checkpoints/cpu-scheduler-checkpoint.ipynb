{
 "cells": [
  {
   "cell_type": "code",
   "execution_count": null,
   "id": "0ffab98e",
   "metadata": {},
   "outputs": [],
   "source": [
    "import threading\n",
    "import queue\n",
    "import time\n",
    "\n",
    "class Task:\n",
    "    def __init__(self, name, resource1, resource2, priority):\n",
    "        self.name = name\n",
    "        self.resources = [resource1, resource2]\n",
    "        self.priority = priority\n",
    "        self.state = \"Ready\"\n",
    "        self.execution_time = 0\n",
    "\n",
    "# Define global variables\n",
    "mutex = threading.Lock()\n",
    "ready_queue = queue.PriorityQueue()\n",
    "waiting_queue = queue.Queue()\n",
    "\n",
    "def execute_task(core, task):\n",
    "    global mutex\n",
    "    global waiting_queue\n",
    "\n",
    "    with mutex:\n",
    "        print(f\"Core: {core}, Time: {task.execution_time}, Task: {task.name}\")\n",
    "    \n",
    "    time.sleep(1)  # Simulating task execution time\n",
    "\n",
    "def sjf_scheduler(core):\n",
    "    global ready_queue\n",
    "    global waiting_queue\n",
    "\n",
    "    while True:\n",
    "        with mutex:\n",
    "            if not ready_queue.empty():\n",
    "                task = ready_queue.get()\n",
    "            else:\n",
    "                task = None\n",
    "\n",
    "        if task:\n",
    "            execute_task(core, task)\n",
    "            task.execution_time += 1\n",
    "            with mutex:\n",
    "                if task.execution_time < task.priority:\n",
    "                    ready_queue.put(task)\n",
    "                else:\n",
    "                    task.state = \"Finished\"\n",
    "            time.sleep(1)  # Simulating time passing\n",
    "        else:\n",
    "            with mutex:\n",
    "                print(f\"Core: {core}, Time: Idle\")\n",
    "            time.sleep(1)  # Simulating idle time\n",
    "\n",
    "def main():\n",
    "    # Define tasks\n",
    "    tasks = [\n",
    "        Task(\"t1\", \"R1\", \"R2\", 5),\n",
    "        Task(\"t2\", \"R1\", \"R3\", 8),\n",
    "        Task(\"t3\", \"R2\", \"R3\", 4),\n",
    "        Task(\"t4\", \"R1\", \"R3\", 2),\n",
    "    ]\n",
    "\n",
    "    # Initialize ready queue\n",
    "    for task in tasks:\n",
    "        ready_queue.put(task.priority, task)\n",
    "\n",
    "    # Start processor threads\n",
    "    cores = 4\n",
    "    processor_threads = []\n",
    "    for core in range(1, cores + 1):\n",
    "        processor_thread = threading.Thread(target=sjf_scheduler, args=(core,))\n",
    "        processor_threads.append(processor_thread)\n",
    "        processor_thread.start()\n",
    "\n",
    "    # Wait for all threads to finish\n",
    "    for processor_thread in processor_threads:\n",
    "        processor_thread.join()\n",
    "\n",
    "if __name__ == \"__main__\":\n",
    "    print(\"---- SJF ----\")\n",
    "    main()\n"
   ]
  },
  {
   "cell_type": "code",
   "execution_count": null,
   "id": "8c7f4ff0",
   "metadata": {},
   "outputs": [],
   "source": []
  },
  {
   "cell_type": "code",
   "execution_count": null,
   "id": "8a2d5f1d",
   "metadata": {},
   "outputs": [],
   "source": []
  },
  {
   "cell_type": "code",
   "execution_count": null,
   "id": "abd96561",
   "metadata": {},
   "outputs": [],
   "source": []
  },
  {
   "cell_type": "code",
   "execution_count": null,
   "id": "dcaa4221",
   "metadata": {},
   "outputs": [],
   "source": []
  },
  {
   "cell_type": "code",
   "execution_count": 4,
   "id": "97fd488c",
   "metadata": {},
   "outputs": [
    {
     "name": "stdout",
     "output_type": "stream",
     "text": [
      "Enter the number of resources for R1, R2 and R3: 3   4   5\n",
      "R1 : 3\n",
      "R1 : 4\n",
      "R3 : 5\n"
     ]
    }
   ],
   "source": [
    "r1, r2, r3 = input(\"Enter resources and tasks: \").split()\n",
    "print(f\"R1 : {r1}\\nR1 : {r2}\\nR3 : {r3}\")\n",
    "numOfTasks = int(input())\n",
    "\n",
    "\n",
    "\n",
    "\n"
   ]
  },
  {
   "cell_type": "code",
   "execution_count": null,
   "id": "19bcaaae",
   "metadata": {},
   "outputs": [],
   "source": []
  },
  {
   "cell_type": "code",
   "execution_count": 5,
   "id": "f8088373",
   "metadata": {},
   "outputs": [
    {
     "name": "stdout",
     "output_type": "stream",
     "text": [
      "Enter the number of resources for R1, R2, and R3: 3   4   5 4 t1  X   5 t2  Z   8 t3  Y   4 t4  Z   2\n"
     ]
    },
    {
     "ename": "ValueError",
     "evalue": "invalid literal for int() with base 10: 't1'",
     "output_type": "error",
     "traceback": [
      "\u001b[1;31m---------------------------------------------------------------------------\u001b[0m",
      "\u001b[1;31mValueError\u001b[0m                                Traceback (most recent call last)",
      "Input \u001b[1;32mIn [5]\u001b[0m, in \u001b[0;36m<cell line: 2>\u001b[1;34m()\u001b[0m\n\u001b[0;32m      1\u001b[0m \u001b[38;5;66;03m# Read the number of resources for R1, R2, and R3\u001b[39;00m\n\u001b[1;32m----> 2\u001b[0m num_resources \u001b[38;5;241m=\u001b[39m \u001b[38;5;28;43mlist\u001b[39;49m\u001b[43m(\u001b[49m\u001b[38;5;28;43mmap\u001b[39;49m\u001b[43m(\u001b[49m\u001b[38;5;28;43mint\u001b[39;49m\u001b[43m,\u001b[49m\u001b[43m \u001b[49m\u001b[38;5;28;43minput\u001b[39;49m\u001b[43m(\u001b[49m\u001b[38;5;124;43m\"\u001b[39;49m\u001b[38;5;124;43mEnter the number of resources for R1, R2, and R3: \u001b[39;49m\u001b[38;5;124;43m\"\u001b[39;49m\u001b[43m)\u001b[49m\u001b[38;5;241;43m.\u001b[39;49m\u001b[43msplit\u001b[49m\u001b[43m(\u001b[49m\u001b[43m)\u001b[49m\u001b[43m)\u001b[49m\u001b[43m)\u001b[49m\n\u001b[0;32m      4\u001b[0m \u001b[38;5;66;03m# Read the number of tasks\u001b[39;00m\n\u001b[0;32m      5\u001b[0m num_tasks \u001b[38;5;241m=\u001b[39m \u001b[38;5;28mint\u001b[39m(\u001b[38;5;28minput\u001b[39m(\u001b[38;5;124m\"\u001b[39m\u001b[38;5;124mEnter the number of tasks: \u001b[39m\u001b[38;5;124m\"\u001b[39m))\n",
      "\u001b[1;31mValueError\u001b[0m: invalid literal for int() with base 10: 't1'"
     ]
    }
   ],
   "source": [
    "# Read the number of resources for R1, R2, and R3\n",
    "num_resources = list(map(int, input(\"Enter the number of resources for R1, R2, and R3: \").split()))\n",
    "\n",
    "# Read the number of tasks\n",
    "num_tasks = int(input(\"Enter the number of tasks: \"))\n",
    "\n",
    "# Read task details\n",
    "tasks = []\n",
    "for _ in range(num_tasks):\n",
    "    task_data = input(\"Enter task details (Duration_Task, Type_Task, Name_Task): \").split()\n",
    "    duration, task_type, task_name = map(int, task_data)\n",
    "    tasks.append((duration, task_type, task_name))\n",
    "\n",
    "# Print the input data\n",
    "print(f\"Number of resources: {num_resources}\")\n",
    "print(f\"Number of tasks: {num_tasks}\")\n",
    "print(\"Task details:\")\n",
    "for task in tasks:\n",
    "    print(f\"Duration: {task[0]}, Type: {task[1]}, Name: {task[2]}\")\n"
   ]
  },
  {
   "cell_type": "code",
   "execution_count": null,
   "id": "05e5f396",
   "metadata": {},
   "outputs": [],
   "source": []
  }
 ],
 "metadata": {
  "kernelspec": {
   "display_name": "Python 3 (ipykernel)",
   "language": "python",
   "name": "python3"
  },
  "language_info": {
   "codemirror_mode": {
    "name": "ipython",
    "version": 3
   },
   "file_extension": ".py",
   "mimetype": "text/x-python",
   "name": "python",
   "nbconvert_exporter": "python",
   "pygments_lexer": "ipython3",
   "version": "3.10.5"
  }
 },
 "nbformat": 4,
 "nbformat_minor": 5
}
