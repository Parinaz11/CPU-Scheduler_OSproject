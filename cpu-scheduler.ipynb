{
 "cells": [
  {
   "cell_type": "code",
   "execution_count": null,
   "id": "9cc73c89",
   "metadata": {},
   "outputs": [],
   "source": []
  },
  {
   "cell_type": "code",
   "execution_count": 4,
   "id": "95bbcd6b",
   "metadata": {},
   "outputs": [
    {
     "name": "stdout",
     "output_type": "stream",
     "text": [
      "Enter the number of resources for R1, R2 and R3: 3   4   5\n",
      "R1 : 3\n",
      "R1 : 4\n",
      "R3 : 5\n"
     ]
    }
   ],
   "source": [
    "r1, r2, r3 = input(\"Enter resources and tasks: \").split()\n",
    "print(f\"R1 : {r1}\\nR1 : {r2}\\nR3 : {r3}\")\n",
    "numOfTasks = int(input())\n",
    "\n",
    "\n",
    "\n",
    "\n"
   ]
  },
  {
   "cell_type": "code",
   "execution_count": null,
   "id": "7032cbf7",
   "metadata": {},
   "outputs": [],
   "source": []
  },
  {
   "cell_type": "code",
   "execution_count": 5,
   "id": "334ff6e0",
   "metadata": {},
   "outputs": [
    {
     "name": "stdout",
     "output_type": "stream",
     "text": [
      "Enter the number of resources for R1, R2, and R3: 3   4   5 4 t1  X   5 t2  Z   8 t3  Y   4 t4  Z   2\n"
     ]
    },
    {
     "ename": "ValueError",
     "evalue": "invalid literal for int() with base 10: 't1'",
     "output_type": "error",
     "traceback": [
      "\u001b[1;31m---------------------------------------------------------------------------\u001b[0m",
      "\u001b[1;31mValueError\u001b[0m                                Traceback (most recent call last)",
      "Input \u001b[1;32mIn [5]\u001b[0m, in \u001b[0;36m<cell line: 2>\u001b[1;34m()\u001b[0m\n\u001b[0;32m      1\u001b[0m \u001b[38;5;66;03m# Read the number of resources for R1, R2, and R3\u001b[39;00m\n\u001b[1;32m----> 2\u001b[0m num_resources \u001b[38;5;241m=\u001b[39m \u001b[38;5;28;43mlist\u001b[39;49m\u001b[43m(\u001b[49m\u001b[38;5;28;43mmap\u001b[39;49m\u001b[43m(\u001b[49m\u001b[38;5;28;43mint\u001b[39;49m\u001b[43m,\u001b[49m\u001b[43m \u001b[49m\u001b[38;5;28;43minput\u001b[39;49m\u001b[43m(\u001b[49m\u001b[38;5;124;43m\"\u001b[39;49m\u001b[38;5;124;43mEnter the number of resources for R1, R2, and R3: \u001b[39;49m\u001b[38;5;124;43m\"\u001b[39;49m\u001b[43m)\u001b[49m\u001b[38;5;241;43m.\u001b[39;49m\u001b[43msplit\u001b[49m\u001b[43m(\u001b[49m\u001b[43m)\u001b[49m\u001b[43m)\u001b[49m\u001b[43m)\u001b[49m\n\u001b[0;32m      4\u001b[0m \u001b[38;5;66;03m# Read the number of tasks\u001b[39;00m\n\u001b[0;32m      5\u001b[0m num_tasks \u001b[38;5;241m=\u001b[39m \u001b[38;5;28mint\u001b[39m(\u001b[38;5;28minput\u001b[39m(\u001b[38;5;124m\"\u001b[39m\u001b[38;5;124mEnter the number of tasks: \u001b[39m\u001b[38;5;124m\"\u001b[39m))\n",
      "\u001b[1;31mValueError\u001b[0m: invalid literal for int() with base 10: 't1'"
     ]
    }
   ],
   "source": [
    "# Read the number of resources for R1, R2, and R3\n",
    "num_resources = list(map(int, input(\"Enter the number of resources for R1, R2, and R3: \").split()))\n",
    "\n",
    "# Read the number of tasks\n",
    "num_tasks = int(input(\"Enter the number of tasks: \"))\n",
    "\n",
    "# Read task details\n",
    "tasks = []\n",
    "for _ in range(num_tasks):\n",
    "    task_data = input(\"Enter task details (Duration_Task, Type_Task, Name_Task): \").split()\n",
    "    duration, task_type, task_name = map(int, task_data)\n",
    "    tasks.append((duration, task_type, task_name))\n",
    "\n",
    "# Print the input data\n",
    "print(f\"Number of resources: {num_resources}\")\n",
    "print(f\"Number of tasks: {num_tasks}\")\n",
    "print(\"Task details:\")\n",
    "for task in tasks:\n",
    "    print(f\"Duration: {task[0]}, Type: {task[1]}, Name: {task[2]}\")\n"
   ]
  },
  {
   "cell_type": "code",
   "execution_count": null,
   "id": "a23abaaf",
   "metadata": {},
   "outputs": [],
   "source": []
  }
 ],
 "metadata": {
  "kernelspec": {
   "display_name": "Python 3 (ipykernel)",
   "language": "python",
   "name": "python3"
  },
  "language_info": {
   "codemirror_mode": {
    "name": "ipython",
    "version": 3
   },
   "file_extension": ".py",
   "mimetype": "text/x-python",
   "name": "python",
   "nbconvert_exporter": "python",
   "pygments_lexer": "ipython3",
   "version": "3.10.5"
  }
 },
 "nbformat": 4,
 "nbformat_minor": 5
}
